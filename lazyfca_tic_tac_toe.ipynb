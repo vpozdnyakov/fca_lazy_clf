{
 "cells": [
  {
   "cell_type": "code",
   "execution_count": 1,
   "metadata": {},
   "outputs": [],
   "source": [
    "from importlib import reload\n",
    "import pandas as pd\n",
    "import numpy as np\n",
    "from sklearn import model_selection\n",
    "from sklearn import metrics\n",
    "import fca_lazy_clf as fca\n",
    "from datetime import datetime\n",
    "import sklearn.tree as tree"
   ]
  },
  {
   "cell_type": "markdown",
   "metadata": {},
   "outputs": [],
   "source": [
    "# Scaling of dataset"
   ]
  },
  {
   "cell_type": "code",
   "execution_count": 2,
   "metadata": {},
   "outputs": [
    {
     "data": {
      "text/html": "<div>\n<style scoped>\n    .dataframe tbody tr th:only-of-type {\n        vertical-align: middle;\n    }\n\n    .dataframe tbody tr th {\n        vertical-align: top;\n    }\n\n    .dataframe thead th {\n        text-align: right;\n    }\n</style>\n<table border=\"1\" class=\"dataframe\">\n  <thead>\n    <tr style=\"text-align: right;\">\n      <th></th>\n      <th>V1</th>\n      <th>V2</th>\n      <th>V3</th>\n      <th>V4</th>\n      <th>V5</th>\n      <th>V6</th>\n      <th>V7</th>\n      <th>V8</th>\n      <th>V9</th>\n      <th>V10</th>\n    </tr>\n  </thead>\n  <tbody>\n    <tr>\n      <th>0</th>\n      <td>x</td>\n      <td>x</td>\n      <td>x</td>\n      <td>x</td>\n      <td>o</td>\n      <td>o</td>\n      <td>x</td>\n      <td>o</td>\n      <td>o</td>\n      <td>positive</td>\n    </tr>\n    <tr>\n      <th>1</th>\n      <td>x</td>\n      <td>x</td>\n      <td>x</td>\n      <td>x</td>\n      <td>o</td>\n      <td>o</td>\n      <td>o</td>\n      <td>x</td>\n      <td>o</td>\n      <td>positive</td>\n    </tr>\n    <tr>\n      <th>2</th>\n      <td>x</td>\n      <td>x</td>\n      <td>x</td>\n      <td>x</td>\n      <td>o</td>\n      <td>o</td>\n      <td>o</td>\n      <td>o</td>\n      <td>x</td>\n      <td>positive</td>\n    </tr>\n    <tr>\n      <th>3</th>\n      <td>x</td>\n      <td>x</td>\n      <td>x</td>\n      <td>x</td>\n      <td>o</td>\n      <td>o</td>\n      <td>o</td>\n      <td>b</td>\n      <td>b</td>\n      <td>positive</td>\n    </tr>\n    <tr>\n      <th>4</th>\n      <td>x</td>\n      <td>x</td>\n      <td>x</td>\n      <td>x</td>\n      <td>o</td>\n      <td>o</td>\n      <td>b</td>\n      <td>o</td>\n      <td>b</td>\n      <td>positive</td>\n    </tr>\n  </tbody>\n</table>\n</div>",
      "text/plain": "  V1 V2 V3 V4 V5 V6 V7 V8 V9       V10\n0  x  x  x  x  o  o  x  o  o  positive\n1  x  x  x  x  o  o  o  x  o  positive\n2  x  x  x  x  o  o  o  o  x  positive\n3  x  x  x  x  o  o  o  b  b  positive\n4  x  x  x  x  o  o  b  o  b  positive"
     },
     "execution_count": 2,
     "metadata": {},
     "output_type": "execute_result"
    }
   ],
   "source": [
    "train_data = pd.read_csv('tic-tac-toe/train4.csv')\n",
    "train_data.head()"
   ]
  },
  {
   "cell_type": "code",
   "execution_count": 3,
   "metadata": {},
   "outputs": [],
   "source": [
    "def scale(dataset):\n",
    "    for i in range(9):\n",
    "        str_i = str(i + 1)\n",
    "        dataset['v' + str_i] = (dataset['V' + str_i] == 'x').astype(int)\n",
    "    dataset['v10'] = (dataset['V10'] == 'positive').astype(int)\n",
    "    dataset.drop(['V' + str(i+1) for i in range(10)], axis=1, inplace = True)\n",
    "    return dataset"
   ]
  },
  {
   "cell_type": "code",
   "execution_count": 4,
   "metadata": {},
   "outputs": [
    {
     "data": {
      "text/html": "<div>\n<style scoped>\n    .dataframe tbody tr th:only-of-type {\n        vertical-align: middle;\n    }\n\n    .dataframe tbody tr th {\n        vertical-align: top;\n    }\n\n    .dataframe thead th {\n        text-align: right;\n    }\n</style>\n<table border=\"1\" class=\"dataframe\">\n  <thead>\n    <tr style=\"text-align: right;\">\n      <th></th>\n      <th>v1</th>\n      <th>v2</th>\n      <th>v3</th>\n      <th>v4</th>\n      <th>v5</th>\n      <th>v6</th>\n      <th>v7</th>\n      <th>v8</th>\n      <th>v9</th>\n    </tr>\n  </thead>\n  <tbody>\n    <tr>\n      <th>0</th>\n      <td>1</td>\n      <td>1</td>\n      <td>1</td>\n      <td>1</td>\n      <td>0</td>\n      <td>0</td>\n      <td>1</td>\n      <td>0</td>\n      <td>0</td>\n    </tr>\n    <tr>\n      <th>1</th>\n      <td>1</td>\n      <td>1</td>\n      <td>1</td>\n      <td>1</td>\n      <td>0</td>\n      <td>0</td>\n      <td>0</td>\n      <td>1</td>\n      <td>0</td>\n    </tr>\n    <tr>\n      <th>2</th>\n      <td>1</td>\n      <td>1</td>\n      <td>1</td>\n      <td>1</td>\n      <td>0</td>\n      <td>0</td>\n      <td>0</td>\n      <td>0</td>\n      <td>1</td>\n    </tr>\n    <tr>\n      <th>3</th>\n      <td>1</td>\n      <td>1</td>\n      <td>1</td>\n      <td>1</td>\n      <td>0</td>\n      <td>0</td>\n      <td>0</td>\n      <td>0</td>\n      <td>0</td>\n    </tr>\n    <tr>\n      <th>4</th>\n      <td>1</td>\n      <td>1</td>\n      <td>1</td>\n      <td>1</td>\n      <td>0</td>\n      <td>0</td>\n      <td>0</td>\n      <td>0</td>\n      <td>0</td>\n    </tr>\n  </tbody>\n</table>\n</div>",
      "text/plain": "   v1  v2  v3  v4  v5  v6  v7  v8  v9\n0   1   1   1   1   0   0   1   0   0\n1   1   1   1   1   0   0   0   1   0\n2   1   1   1   1   0   0   0   0   1\n3   1   1   1   1   0   0   0   0   0\n4   1   1   1   1   0   0   0   0   0"
     },
     "execution_count": 4,
     "metadata": {},
     "output_type": "execute_result"
    }
   ],
   "source": [
    "train_data = scale(pd.read_csv('tic-tac-toe/train9.csv')).iloc[:, :-1]\n",
    "X_train = train_data.iloc[:, :-1]\n",
    "y_train = train_data.iloc[:, -1]\n",
    "train_data.head()"
   ]
  },
  {
   "cell_type": "markdown",
   "metadata": {},
   "outputs": [],
   "source": [
    "# Lazy classifying"
   ]
  },
  {
   "cell_type": "code",
   "execution_count": 5,
   "metadata": {},
   "outputs": [
    {
     "data": {
      "text/html": "<div>\n<style scoped>\n    .dataframe tbody tr th:only-of-type {\n        vertical-align: middle;\n    }\n\n    .dataframe tbody tr th {\n        vertical-align: top;\n    }\n\n    .dataframe thead th {\n        text-align: right;\n    }\n</style>\n<table border=\"1\" class=\"dataframe\">\n  <thead>\n    <tr style=\"text-align: right;\">\n      <th></th>\n      <th>accuracy</th>\n      <th>precision</th>\n      <th>recall</th>\n      <th>seconds</th>\n    </tr>\n  </thead>\n  <tbody>\n    <tr>\n      <th>0</th>\n      <td>1.0</td>\n      <td>1.0</td>\n      <td>1.0</td>\n      <td>66</td>\n    </tr>\n    <tr>\n      <th>1</th>\n      <td>1.0</td>\n      <td>1.0</td>\n      <td>1.0</td>\n      <td>52</td>\n    </tr>\n    <tr>\n      <th>2</th>\n      <td>1.0</td>\n      <td>1.0</td>\n      <td>1.0</td>\n      <td>64</td>\n    </tr>\n    <tr>\n      <th>3</th>\n      <td>1.0</td>\n      <td>1.0</td>\n      <td>1.0</td>\n      <td>51</td>\n    </tr>\n    <tr>\n      <th>4</th>\n      <td>1.0</td>\n      <td>1.0</td>\n      <td>1.0</td>\n      <td>66</td>\n    </tr>\n    <tr>\n      <th>5</th>\n      <td>1.0</td>\n      <td>1.0</td>\n      <td>1.0</td>\n      <td>50</td>\n    </tr>\n    <tr>\n      <th>6</th>\n      <td>1.0</td>\n      <td>1.0</td>\n      <td>1.0</td>\n      <td>82</td>\n    </tr>\n    <tr>\n      <th>7</th>\n      <td>1.0</td>\n      <td>1.0</td>\n      <td>1.0</td>\n      <td>84</td>\n    </tr>\n    <tr>\n      <th>8</th>\n      <td>1.0</td>\n      <td>1.0</td>\n      <td>1.0</td>\n      <td>81</td>\n    </tr>\n    <tr>\n      <th>9</th>\n      <td>1.0</td>\n      <td>1.0</td>\n      <td>1.0</td>\n      <td>69</td>\n    </tr>\n  </tbody>\n</table>\n</div>",
      "text/plain": "   accuracy  precision  recall  seconds\n0       1.0        1.0     1.0       66\n1       1.0        1.0     1.0       52\n2       1.0        1.0     1.0       64\n3       1.0        1.0     1.0       51\n4       1.0        1.0     1.0       66\n5       1.0        1.0     1.0       50\n6       1.0        1.0     1.0       82\n7       1.0        1.0     1.0       84\n8       1.0        1.0     1.0       81\n9       1.0        1.0     1.0       69"
     },
     "execution_count": 5,
     "metadata": {},
     "output_type": "execute_result"
    }
   ],
   "source": [
    "results = {'accuracy': [], 'precision': [], 'recall': [], 'seconds': []}\n",
    "reload(fca)\n",
    "clf = fca.LazyClassifier(threshold=0.000001, bias='false')\n",
    "\n",
    "for i in range(10):\n",
    "    train_data = scale(pd.read_csv('tic-tac-toe/train{}.csv'.format(i+1)))\n",
    "    X_train = train_data.iloc[:, :-1]\n",
    "    y_train = train_data.iloc[:, -1]\n",
    "\n",
    "    clf.fit(X_train, y_train)\n",
    "\n",
    "    test_data = scale(pd.read_csv('tic-tac-toe/test{}.csv'.format(i+1)))\n",
    "    X_test = test_data.iloc[:, :-1]\n",
    "    y_test = test_data.iloc[:, -1]\n",
    "\n",
    "    s = datetime.now()\n",
    "    y_pred = clf.predict(X_test)\n",
    "    f = datetime.now()\n",
    "\n",
    "    results['accuracy'].append(metrics.accuracy_score(y_test, y_pred))\n",
    "    results['precision'].append(metrics.precision_score(y_test, y_pred))\n",
    "    results['recall'].append(metrics.recall_score(y_test, y_pred))\n",
    "    results['seconds'].append((f - s).seconds)\n",
    "\n",
    "pd.DataFrame(results)"
   ]
  },
  {
   "cell_type": "code",
   "execution_count": 6,
   "metadata": {},
   "outputs": [
    {
     "data": {
      "text/html": "<div>\n<style scoped>\n    .dataframe tbody tr th:only-of-type {\n        vertical-align: middle;\n    }\n\n    .dataframe tbody tr th {\n        vertical-align: top;\n    }\n\n    .dataframe thead th {\n        text-align: right;\n    }\n</style>\n<table border=\"1\" class=\"dataframe\">\n  <thead>\n    <tr style=\"text-align: right;\">\n      <th></th>\n      <th>accuracy</th>\n      <th>precision</th>\n      <th>recall</th>\n      <th>seconds</th>\n    </tr>\n  </thead>\n  <tbody>\n    <tr>\n      <th>0</th>\n      <td>0.967742</td>\n      <td>0.953125</td>\n      <td>1.0</td>\n      <td>21</td>\n    </tr>\n    <tr>\n      <th>1</th>\n      <td>0.988506</td>\n      <td>0.980769</td>\n      <td>1.0</td>\n      <td>38</td>\n    </tr>\n    <tr>\n      <th>2</th>\n      <td>1.000000</td>\n      <td>1.000000</td>\n      <td>1.0</td>\n      <td>35</td>\n    </tr>\n    <tr>\n      <th>3</th>\n      <td>1.000000</td>\n      <td>1.000000</td>\n      <td>1.0</td>\n      <td>24</td>\n    </tr>\n    <tr>\n      <th>4</th>\n      <td>0.988764</td>\n      <td>0.984127</td>\n      <td>1.0</td>\n      <td>27</td>\n    </tr>\n    <tr>\n      <th>5</th>\n      <td>0.988235</td>\n      <td>0.982456</td>\n      <td>1.0</td>\n      <td>27</td>\n    </tr>\n    <tr>\n      <th>6</th>\n      <td>0.982456</td>\n      <td>0.972222</td>\n      <td>1.0</td>\n      <td>29</td>\n    </tr>\n    <tr>\n      <th>7</th>\n      <td>1.000000</td>\n      <td>1.000000</td>\n      <td>1.0</td>\n      <td>26</td>\n    </tr>\n    <tr>\n      <th>8</th>\n      <td>0.980583</td>\n      <td>0.972222</td>\n      <td>1.0</td>\n      <td>21</td>\n    </tr>\n    <tr>\n      <th>9</th>\n      <td>0.989011</td>\n      <td>0.983333</td>\n      <td>1.0</td>\n      <td>24</td>\n    </tr>\n  </tbody>\n</table>\n</div>",
      "text/plain": "   accuracy  precision  recall  seconds\n0  0.967742   0.953125     1.0       21\n1  0.988506   0.980769     1.0       38\n2  1.000000   1.000000     1.0       35\n3  1.000000   1.000000     1.0       24\n4  0.988764   0.984127     1.0       27\n5  0.988235   0.982456     1.0       27\n6  0.982456   0.972222     1.0       29\n7  1.000000   1.000000     1.0       26\n8  0.980583   0.972222     1.0       21\n9  0.989011   0.983333     1.0       24"
     },
     "execution_count": 6,
     "metadata": {},
     "output_type": "execute_result"
    }
   ],
   "source": [
    "results = {'accuracy': [], 'precision': [], 'recall': [], 'seconds': []}\n",
    "reload(fca)\n",
    "clf = fca.LazyClassifier(\n",
    "    threshold=0.000001, bias='false', \n",
    "    random=True, sample_share=0.3, random_seed=1)\n",
    "\n",
    "for i in range(10):\n",
    "    train_data = scale(pd.read_csv('tic-tac-toe/train{}.csv'.format(i+1)))\n",
    "    X_train = train_data.iloc[:, :-1]\n",
    "    y_train = train_data.iloc[:, -1]\n",
    "\n",
    "    clf.fit(X_train, y_train)\n",
    "\n",
    "    test_data = scale(pd.read_csv('tic-tac-toe/test{}.csv'.format(i+1)))\n",
    "    X_test = test_data.iloc[:, :-1]\n",
    "    y_test = test_data.iloc[:, -1]\n",
    "\n",
    "    s = datetime.now()\n",
    "    y_pred = clf.predict(X_test)\n",
    "    f = datetime.now()\n",
    "\n",
    "    results['accuracy'].append(metrics.accuracy_score(y_test, y_pred))\n",
    "    results['precision'].append(metrics.precision_score(y_test, y_pred))\n",
    "    results['recall'].append(metrics.recall_score(y_test, y_pred))\n",
    "    results['seconds'].append((f - s).seconds)\n",
    "\n",
    "pd.DataFrame(results)"
   ]
  },
  {
   "cell_type": "markdown",
   "metadata": {},
   "outputs": [],
   "source": [
    "# Classical decision tree"
   ]
  },
  {
   "cell_type": "code",
   "execution_count": 7,
   "metadata": {},
   "outputs": [
    {
     "data": {
      "text/html": "<div>\n<style scoped>\n    .dataframe tbody tr th:only-of-type {\n        vertical-align: middle;\n    }\n\n    .dataframe tbody tr th {\n        vertical-align: top;\n    }\n\n    .dataframe thead th {\n        text-align: right;\n    }\n</style>\n<table border=\"1\" class=\"dataframe\">\n  <thead>\n    <tr style=\"text-align: right;\">\n      <th></th>\n      <th>accuracy</th>\n      <th>precision</th>\n      <th>recall</th>\n      <th>seconds</th>\n    </tr>\n  </thead>\n  <tbody>\n    <tr>\n      <th>0</th>\n      <td>0.956989</td>\n      <td>0.967213</td>\n      <td>0.967213</td>\n      <td>0</td>\n    </tr>\n    <tr>\n      <th>1</th>\n      <td>0.954023</td>\n      <td>0.979592</td>\n      <td>0.941176</td>\n      <td>0</td>\n    </tr>\n    <tr>\n      <th>2</th>\n      <td>1.000000</td>\n      <td>1.000000</td>\n      <td>1.000000</td>\n      <td>0</td>\n    </tr>\n    <tr>\n      <th>3</th>\n      <td>0.988764</td>\n      <td>1.000000</td>\n      <td>0.983051</td>\n      <td>0</td>\n    </tr>\n    <tr>\n      <th>4</th>\n      <td>0.988764</td>\n      <td>1.000000</td>\n      <td>0.983871</td>\n      <td>0</td>\n    </tr>\n    <tr>\n      <th>5</th>\n      <td>0.988235</td>\n      <td>0.982456</td>\n      <td>1.000000</td>\n      <td>0</td>\n    </tr>\n    <tr>\n      <th>6</th>\n      <td>0.991228</td>\n      <td>0.985915</td>\n      <td>1.000000</td>\n      <td>0</td>\n    </tr>\n    <tr>\n      <th>7</th>\n      <td>0.971963</td>\n      <td>0.972973</td>\n      <td>0.986301</td>\n      <td>0</td>\n    </tr>\n    <tr>\n      <th>8</th>\n      <td>0.990291</td>\n      <td>1.000000</td>\n      <td>0.985714</td>\n      <td>0</td>\n    </tr>\n    <tr>\n      <th>9</th>\n      <td>0.978022</td>\n      <td>0.983051</td>\n      <td>0.983051</td>\n      <td>0</td>\n    </tr>\n  </tbody>\n</table>\n</div>",
      "text/plain": "   accuracy  precision    recall  seconds\n0  0.956989   0.967213  0.967213        0\n1  0.954023   0.979592  0.941176        0\n2  1.000000   1.000000  1.000000        0\n3  0.988764   1.000000  0.983051        0\n4  0.988764   1.000000  0.983871        0\n5  0.988235   0.982456  1.000000        0\n6  0.991228   0.985915  1.000000        0\n7  0.971963   0.972973  0.986301        0\n8  0.990291   1.000000  0.985714        0\n9  0.978022   0.983051  0.983051        0"
     },
     "execution_count": 7,
     "metadata": {},
     "output_type": "execute_result"
    }
   ],
   "source": [
    "results = {'accuracy': [], 'precision': [], 'recall': [], 'seconds': []}\n",
    "clf = tree.DecisionTreeClassifier(criterion='entropy')\n",
    "\n",
    "for i in range(10):\n",
    "    train_data = scale(pd.read_csv('tic-tac-toe/train{}.csv'.format(i+1)))\n",
    "    X_train = train_data.iloc[:, :-1]\n",
    "    y_train = train_data.iloc[:, -1]\n",
    "\n",
    "    clf.fit(X_train, y_train)\n",
    "\n",
    "    test_data = scale(pd.read_csv('tic-tac-toe/test{}.csv'.format(i+1)))\n",
    "    X_test = test_data.iloc[:, :-1]\n",
    "    y_test = test_data.iloc[:, -1]\n",
    "\n",
    "    s = datetime.now()\n",
    "    y_pred = clf.predict(X_test)\n",
    "    f = datetime.now()\n",
    "\n",
    "    results['accuracy'].append(metrics.accuracy_score(y_test, y_pred))\n",
    "    results['precision'].append(metrics.precision_score(y_test, y_pred))\n",
    "    results['recall'].append(metrics.recall_score(y_test, y_pred))\n",
    "    results['seconds'].append((f - s).seconds)\n",
    "\n",
    "pd.DataFrame(results)"
   ]
  }
 ],
 "metadata": {
  "kernelspec": {
   "display_name": "Python 3",
   "language": "python",
   "name": "python3"
  },
  "language_info": {
   "codemirror_mode": {
    "name": "ipython",
    "version": 3
   },
   "file_extension": ".py",
   "mimetype": "text/x-python",
   "name": "python",
   "nbconvert_exporter": "python",
   "pygments_lexer": "ipython3",
   "version": "3.7.5"
  }
 },
 "nbformat": 4,
 "nbformat_minor": 2
}